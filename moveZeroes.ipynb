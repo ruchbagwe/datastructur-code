{
 "cells": [
  {
   "cell_type": "code",
   "execution_count": 30,
   "metadata": {},
   "outputs": [],
   "source": [
    "def moveZeroes(nums):\n",
    "    j=0\n",
    "    for i in range(0, len(nums)):\n",
    "        print(\"i=\",i)\n",
    "        print(\"j=\",j)\n",
    "        print(nums)\n",
    "        if nums[i] == 0:\n",
    "            continue\n",
    "            \n",
    "        else:\n",
    "            nums[j] = nums[i]\n",
    "            j += 1\n",
    "            print(nums) \n",
    "    if j == i:\n",
    "        return nums\n",
    "    else:\n",
    "        while(j != i+1):\n",
    "            nums[j] =0\n",
    "            j += 1\n",
    "        return nums\n",
    "            "
   ]
  },
  {
   "cell_type": "code",
   "execution_count": 31,
   "metadata": {},
   "outputs": [
    {
     "name": "stdout",
     "output_type": "stream",
     "text": [
      "i= 0\n",
      "j= 0\n",
      "[0, 1, 0, 3, 12]\n",
      "i= 1\n",
      "j= 0\n",
      "[0, 1, 0, 3, 12]\n",
      "[1, 1, 0, 3, 12]\n",
      "i= 2\n",
      "j= 1\n",
      "[1, 1, 0, 3, 12]\n",
      "i= 3\n",
      "j= 1\n",
      "[1, 1, 0, 3, 12]\n",
      "[1, 3, 0, 3, 12]\n",
      "i= 4\n",
      "j= 2\n",
      "[1, 3, 0, 3, 12]\n",
      "[1, 3, 12, 3, 12]\n",
      "[1, 3, 12, 0, 0]\n"
     ]
    }
   ],
   "source": [
    "nums = [0,1,0,3,12]\n",
    "print(moveZeroes(nums))"
   ]
  },
  {
   "cell_type": "code",
   "execution_count": 34,
   "metadata": {},
   "outputs": [
    {
     "name": "stdout",
     "output_type": "stream",
     "text": [
      "i= 0\n",
      "j= 0\n",
      "[1, 3, 5, 3, 5]\n",
      "[1, 3, 5, 3, 5]\n",
      "i= 1\n",
      "j= 1\n",
      "[1, 3, 5, 3, 5]\n",
      "[1, 3, 5, 3, 5]\n",
      "i= 2\n",
      "j= 2\n",
      "[1, 3, 5, 3, 5]\n",
      "[1, 3, 5, 3, 5]\n",
      "i= 3\n",
      "j= 3\n",
      "[1, 3, 5, 3, 5]\n",
      "[1, 3, 5, 3, 5]\n",
      "i= 4\n",
      "j= 4\n",
      "[1, 3, 5, 3, 5]\n",
      "[1, 3, 5, 3, 5]\n",
      "[1, 3, 5, 3, 5]\n"
     ]
    }
   ],
   "source": [
    "nums2 = [1,3,5,3,5]\n",
    "print(moveZeroes(nums2))"
   ]
  },
  {
   "cell_type": "code",
   "execution_count": 47,
   "metadata": {},
   "outputs": [],
   "source": [
    "def chec(nums):\n",
    "    \n",
    "    j = 0\n",
    "    for i in range(0,len(nums)):\n",
    "        if nums[i] == 0:\n",
    "            continue\n",
    "        else:\n",
    "            nums[j] = nums[i]\n",
    "            j += 1\n",
    "                \n",
    "    while (j != i+1):\n",
    "        nums[j] = 0\n",
    "        j += 1\n",
    "    print(nums)"
   ]
  },
  {
   "cell_type": "code",
   "execution_count": 48,
   "metadata": {},
   "outputs": [
    {
     "name": "stdout",
     "output_type": "stream",
     "text": [
      "[1, 3, 5, 3, 5, 0]\n",
      "None\n"
     ]
    }
   ],
   "source": [
    "nums2 = [1,3,5,0,3,5]\n"
   ]
  },
  {
   "cell_type": "code",
   "execution_count": null,
   "metadata": {},
   "outputs": [],
   "source": []
  }
 ],
 "metadata": {
  "kernelspec": {
   "display_name": "Python 3",
   "language": "python",
   "name": "python3"
  },
  "language_info": {
   "codemirror_mode": {
    "name": "ipython",
    "version": 3
   },
   "file_extension": ".py",
   "mimetype": "text/x-python",
   "name": "python",
   "nbconvert_exporter": "python",
   "pygments_lexer": "ipython3",
   "version": "3.7.4"
  }
 },
 "nbformat": 4,
 "nbformat_minor": 2
}
