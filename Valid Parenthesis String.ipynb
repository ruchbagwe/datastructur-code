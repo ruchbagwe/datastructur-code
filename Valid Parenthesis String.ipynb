{
 "cells": [
  {
   "cell_type": "raw",
   "metadata": {},
   "source": [
    "Valid Parenthesis String\n",
    "Given a string containing only three types of characters: '(', ')' and '*', write a function to check whether this string is valid. We define the validity of a string by these rules:\n",
    "\n",
    "Any left parenthesis '(' must have a corresponding right parenthesis ')'.\n",
    "Any right parenthesis ')' must have a corresponding left parenthesis '('.\n",
    "Left parenthesis '(' must go before the corresponding right parenthesis ')'.\n",
    "'*' could be treated as a single right parenthesis ')' or a single left parenthesis '(' or an empty string.\n",
    "An empty string is also valid."
   ]
  },
  {
   "cell_type": "code",
   "execution_count": 3,
   "metadata": {},
   "outputs": [],
   "source": [
    "def checkValidString(s):\n",
    "    leftpar = 0\n",
    "    \n",
    "    star = 0\n",
    "    for char in s:\n",
    "        \n",
    "        if char == '(':\n",
    "            leftpar += 1\n",
    "        elif char == ')':\n",
    "            if leftpar > 0:\n",
    "                leftpar -= 1\n",
    "            else:\n",
    "                if star > 0:\n",
    "                    star -= 1\n",
    "                else:\n",
    "                    return False\n",
    "        elif char == '*':\n",
    "            if leftpar == 0:\n",
    "                char = 0\n",
    "                \n",
    "            else:\n",
    "                star += 1\n",
    "                \n",
    "    print(\"star = \", star)\n",
    "    print(\"leftpar\", leftpar)\n",
    "    if leftpar == 0 :\n",
    "        return True\n",
    "    else:\n",
    "        if leftpar > star:\n",
    "            return False\n",
    "        elif leftpar == star:\n",
    "                return True\n",
    "        else:\n",
    "            \n",
    "            return False\n",
    "            \n",
    "            \n",
    "        "
   ]
  },
  {
   "cell_type": "code",
   "execution_count": 4,
   "metadata": {},
   "outputs": [
    {
     "name": "stdout",
     "output_type": "stream",
     "text": [
      "star =  3\n",
      "leftpar 2\n"
     ]
    },
    {
     "data": {
      "text/plain": [
       "False"
      ]
     },
     "execution_count": 4,
     "metadata": {},
     "output_type": "execute_result"
    }
   ],
   "source": [
    "stt1 = \"((*)(*()))((*\"\n",
    "checkValidString(stt1)"
   ]
  },
  {
   "cell_type": "code",
   "execution_count": 5,
   "metadata": {},
   "outputs": [
    {
     "data": {
      "text/plain": [
       "'('"
      ]
     },
     "execution_count": 5,
     "metadata": {},
     "output_type": "execute_result"
    }
   ],
   "source": [
    "stt1[-2]"
   ]
  },
  {
   "cell_type": "code",
   "execution_count": null,
   "metadata": {},
   "outputs": [],
   "source": []
  }
 ],
 "metadata": {
  "kernelspec": {
   "display_name": "Python 3",
   "language": "python",
   "name": "python3"
  },
  "language_info": {
   "codemirror_mode": {
    "name": "ipython",
    "version": 3
   },
   "file_extension": ".py",
   "mimetype": "text/x-python",
   "name": "python",
   "nbconvert_exporter": "python",
   "pygments_lexer": "ipython3",
   "version": "3.7.4"
  }
 },
 "nbformat": 4,
 "nbformat_minor": 2
}
