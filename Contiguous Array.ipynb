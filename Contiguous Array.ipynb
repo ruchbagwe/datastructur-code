{
 "cells": [
  {
   "cell_type": "raw",
   "metadata": {},
   "source": [
    "Given a binary array, find the maximum length of a contiguous subarray with equal number of 0 and 1.\n",
    "\n",
    "Example 1:\n",
    "Input: [0,1]\n",
    "Output: 2\n",
    "Explanation: [0, 1] is the longest contiguous subarray with equal number of 0 and 1.\n",
    "Example 2:\n",
    "Input: [0,1,0]\n",
    "Output: 2\n",
    "Explanation: [0, 1] (or [1, 0]) is a longest contiguous subarray with equal number of 0 and 1.\n",
    "Note: The length of the given binary array will not exceed 50,000."
   ]
  },
  {
   "cell_type": "code",
   "execution_count": 102,
   "metadata": {},
   "outputs": [],
   "source": [
    "def findMaxLength(nums):\n",
    "    sumdict = {}\n",
    "    curr_sum = 0\n",
    "    max_len = 0\n",
    "    ending_index = -1\n",
    "    \n",
    "    for i in range(0, len(nums)):\n",
    "        if nums[i]  == 0:\n",
    "            nums[i] = -1\n",
    "    \n",
    "    for i in range(0, len(nums)):\n",
    "        \n",
    "        curr_sum += nums[i]\n",
    "        \n",
    "        if (curr_sum == 0):\n",
    "            max_len = i+1\n",
    "            ending_index = i\n",
    "        \n",
    "        if curr_sum in sumdict:\n",
    "            \n",
    "            if max_len < i - sumdict[curr_sum]:\n",
    "                max_len = i - sumdict[curr_sum]\n",
    "                ending_index = i\n",
    "        else:\n",
    "            sumdict[curr_sum] = i\n",
    "    print(\"Array legth start from \", ending_index - max_len + 1)\n",
    "    print(\"array ends at\", ending_index)    \n",
    "    \n",
    "    return max_len\n",
    "                \n",
    "    "
   ]
  },
  {
   "cell_type": "code",
   "execution_count": 103,
   "metadata": {},
   "outputs": [
    {
     "name": "stdout",
     "output_type": "stream",
     "text": [
      "Array legth start from  0\n",
      "array ends at 5\n"
     ]
    },
    {
     "data": {
      "text/plain": [
       "6"
      ]
     },
     "execution_count": 103,
     "metadata": {},
     "output_type": "execute_result"
    }
   ],
   "source": [
    "num = [0,1, 0, 0, 1, 1,0]\n",
    "findMaxLength(num)"
   ]
  },
  {
   "cell_type": "code",
   "execution_count": 110,
   "metadata": {},
   "outputs": [],
   "source": [
    "def findMaxLength(nums):\n",
    "    sumdict = {}\n",
    "    curr_sum = 0\n",
    "    max_len = 0\n",
    "    ending_index = -1\n",
    "    \n",
    "    \n",
    "    for i in range(0, len(nums)):\n",
    "        \n",
    "        if num[i] == 0:\n",
    "            curr_sum -= 1\n",
    "        else:\n",
    "            curr_sum += 1\n",
    "        \n",
    "        if (curr_sum == 0):\n",
    "            max_len = i+1\n",
    "            ending_index = i\n",
    "        \n",
    "        if curr_sum in sumdict:\n",
    "            \n",
    "            if max_len < i - sumdict[curr_sum]:\n",
    "                max_len = i - sumdict[curr_sum]\n",
    "                ending_index = i\n",
    "        else:\n",
    "            sumdict[curr_sum] = i\n",
    "    print(\"Array legth start from \", ending_index - max_len + 1)\n",
    "    print(\"array ends at\", ending_index)    \n",
    "    \n",
    "    return max_len"
   ]
  },
  {
   "cell_type": "code",
   "execution_count": 112,
   "metadata": {},
   "outputs": [
    {
     "name": "stdout",
     "output_type": "stream",
     "text": [
      "Array legth start from  1\n",
      "array ends at 4\n"
     ]
    },
    {
     "data": {
      "text/plain": [
       "4"
      ]
     },
     "execution_count": 112,
     "metadata": {},
     "output_type": "execute_result"
    }
   ],
   "source": [
    "num = [0,1, 0, 0, 1, 0,0]\n",
    "findMaxLength(num)"
   ]
  },
  {
   "cell_type": "code",
   "execution_count": null,
   "metadata": {},
   "outputs": [],
   "source": []
  },
  {
   "cell_type": "code",
   "execution_count": null,
   "metadata": {},
   "outputs": [],
   "source": []
  }
 ],
 "metadata": {
  "kernelspec": {
   "display_name": "Python 3",
   "language": "python",
   "name": "python3"
  },
  "language_info": {
   "codemirror_mode": {
    "name": "ipython",
    "version": 3
   },
   "file_extension": ".py",
   "mimetype": "text/x-python",
   "name": "python",
   "nbconvert_exporter": "python",
   "pygments_lexer": "ipython3",
   "version": "3.7.4"
  }
 },
 "nbformat": 4,
 "nbformat_minor": 2
}
