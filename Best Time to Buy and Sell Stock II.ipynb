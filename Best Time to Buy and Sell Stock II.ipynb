{
 "cells": [
  {
   "cell_type": "markdown",
   "metadata": {},
   "source": [
    "Say you have an array for which the ith element is the price of a given stock on day i.<br><br>\n",
    "\n",
    "Design an algorithm to find the maximum profit. You may complete as many transactions as you like (i.e., buy one and sell one share of the stock multiple times).<br><br>\n",
    "\n",
    "Note: You may not engage in multiple transactions at the same time (i.e., you must sell the stock before you buy again).<br><br>\n",
    "\n",
    "Example 1:<br><br>\n",
    "\n",
    "Input: [7,1,5,3,6,4]<br>\n",
    "Output: 7<br>\n",
    "Explanation: Buy on day 2 (price = 1) and sell on day 3 (price = 5), profit = 5-1 = 4.<br>\n",
    "             Then buy on day 4 (price = 3) and sell on day 5 (price = 6), profit = 6-3 = 3.<br>\n",
    "Example 2:<br><br>\n",
    "\n",
    "Input: [1,2,3,4,5]<br>\n",
    "Output: 4<br>\n",
    "Explanation: Buy on day 1 (price = 1) and sell on day 5 (price = 5), profit = 5-1 = 4.<br>\n",
    "             Note that you cannot buy on day 1, buy on day 2 and sell them later, as you are<br>\n",
    "             engaging multiple transactions at the same time. You must sell before buying again.<br>\n",
    "Example 3:<br>\n",
    "<br>\n",
    "Input: [7,6,4,3,1]<br>\n",
    "Output: 0<br>\n",
    "Explanation: In this case, no transaction is done, i.e. max profit = 0.<br>\n"
   ]
  },
  {
   "cell_type": "code",
   "execution_count": 5,
   "metadata": {},
   "outputs": [],
   "source": [
    "def maxProfit(prices):\n",
    "    \n",
    "    profit = 0\n",
    "    for i in range (1, len(prices)):\n",
    "        if prices[i] > prices[i-1]:\n",
    "            profit+= prices[i] - prices[i-1]\n",
    "            \n",
    "    print(profit)\n",
    "    "
   ]
  },
  {
   "cell_type": "code",
   "execution_count": 20,
   "metadata": {},
   "outputs": [
    {
     "name": "stdout",
     "output_type": "stream",
     "text": [
      "5\n"
     ]
    }
   ],
   "source": [
    "input =  [7,1,5,6,4]\n",
    "maxProfit(input)"
   ]
  },
  {
   "cell_type": "code",
   "execution_count": 7,
   "metadata": {},
   "outputs": [
    {
     "name": "stdout",
     "output_type": "stream",
     "text": [
      "4\n"
     ]
    }
   ],
   "source": [
    "input1= [1,2,3,4,5]\n",
    "maxProfit(input1)"
   ]
  },
  {
   "cell_type": "code",
   "execution_count": 16,
   "metadata": {},
   "outputs": [
    {
     "name": "stdout",
     "output_type": "stream",
     "text": [
      "11\n"
     ]
    }
   ],
   "source": [
    "input3= [1,4,5,2,1,9]\n",
    "maxProfit(input3)"
   ]
  },
  {
   "cell_type": "code",
   "execution_count": 29,
   "metadata": {},
   "outputs": [],
   "source": [
    "def maxProfit2(prices):\n",
    "    profit =0\n",
    "    min1 = 10000000\n",
    "    max1 = 0\n",
    "    \n",
    "    for i in range(0, len(prices)):\n",
    "        if min1 > prices[i]:\n",
    "            min1 = prices[i]\n",
    "        else :\n",
    "            profit += max(max1, prices[i] - min1)\n",
    "            \n",
    "    print(profit)\n",
    "        "
   ]
  },
  {
   "cell_type": "code",
   "execution_count": 30,
   "metadata": {},
   "outputs": [
    {
     "name": "stdout",
     "output_type": "stream",
     "text": [
      "16\n"
     ]
    }
   ],
   "source": [
    "input3= [1,4,5,2,1,9]\n",
    "maxProfit2(input3)"
   ]
  },
  {
   "cell_type": "code",
   "execution_count": null,
   "metadata": {},
   "outputs": [],
   "source": []
  }
 ],
 "metadata": {
  "kernelspec": {
   "display_name": "Python 3",
   "language": "python",
   "name": "python3"
  },
  "language_info": {
   "codemirror_mode": {
    "name": "ipython",
    "version": 3
   },
   "file_extension": ".py",
   "mimetype": "text/x-python",
   "name": "python",
   "nbconvert_exporter": "python",
   "pygments_lexer": "ipython3",
   "version": "3.7.4"
  }
 },
 "nbformat": 4,
 "nbformat_minor": 2
}
