{
 "cells": [
  {
   "cell_type": "raw",
   "metadata": {},
   "source": [
    "Given a binary tree, you need to compute the length of the diameter of the tree. The diameter of a binary tree is the length of the longest path between any two nodes in a tree. This path may or may not pass through the root.\n",
    "\n",
    "Example:\n",
    "Given a binary tree\n",
    "          1\n",
    "         / \\\n",
    "        2   3\n",
    "       / \\     \n",
    "      4   5    \n",
    "Return 3, which is the length of the path [4,2,1,3] or [5,2,1,3].\n",
    "\n",
    "Note: The length of path between two nodes is represented by the number of edges between them."
   ]
  },
  {
   "cell_type": "code",
   "execution_count": 91,
   "metadata": {},
   "outputs": [],
   "source": [
    "class Node:\n",
    "    \n",
    "    def __init__(self, data):\n",
    "        self.left = None\n",
    "        self.right = None\n",
    "        self.data = data\n",
    "        self.ans = 0\n",
    "        \n",
    "    def insert(self, data):\n",
    "        if self.data:\n",
    "            if data < self.data:\n",
    "                if self.left is None:\n",
    "                    self.left = Node(data)\n",
    "                else:\n",
    "                    self.left.insert(data)\n",
    "            elif data > self.data :\n",
    "                if self.right is None:\n",
    "                    self.right = Node(data)\n",
    "                else:\n",
    "                    self.right.insert(data)\n",
    "        else:\n",
    "            self.data = data\n",
    "    \n",
    "    def printTree(self):\n",
    "        if self.left:\n",
    "            self.left.printTree()\n",
    "        print(self.data)\n",
    "        if self.right:\n",
    "            self.right.printTree()\n",
    "            \n",
    "    def dfs(self, node):\n",
    "        if not node:\n",
    "            return 0\n",
    "        left = self.dfs(node.left)\n",
    "        right = self.dfs(node.right)\n",
    "        self.ans = max(self.ans, left+right)\n",
    "        return max(left+1, right+1)\n",
    "    \n",
    "    def diamerTree(self,node):\n",
    "        \n",
    "        self.ans =0\n",
    "        self.dfs(node)   \n",
    "        return self.ans\n",
    "    \n",
    "    "
   ]
  },
  {
   "cell_type": "code",
   "execution_count": 92,
   "metadata": {},
   "outputs": [],
   "source": [
    "root = Node(1)"
   ]
  },
  {
   "cell_type": "code",
   "execution_count": 96,
   "metadata": {},
   "outputs": [
    {
     "name": "stdout",
     "output_type": "stream",
     "text": [
      "1\n",
      "2\n",
      "4\n",
      "5\n"
     ]
    }
   ],
   "source": [
    "root.insert(2)\n",
    "root.insert(4)\n",
    "root.printTree()"
   ]
  },
  {
   "cell_type": "code",
   "execution_count": 97,
   "metadata": {},
   "outputs": [
    {
     "data": {
      "text/plain": [
       "3"
      ]
     },
     "execution_count": 97,
     "metadata": {},
     "output_type": "execute_result"
    }
   ],
   "source": [
    "root.diamerTree(root)"
   ]
  },
  {
   "cell_type": "code",
   "execution_count": null,
   "metadata": {},
   "outputs": [],
   "source": []
  }
 ],
 "metadata": {
  "kernelspec": {
   "display_name": "Python 3",
   "language": "python",
   "name": "python3"
  },
  "language_info": {
   "codemirror_mode": {
    "name": "ipython",
    "version": 3
   },
   "file_extension": ".py",
   "mimetype": "text/x-python",
   "name": "python",
   "nbconvert_exporter": "python",
   "pygments_lexer": "ipython3",
   "version": "3.7.4"
  }
 },
 "nbformat": 4,
 "nbformat_minor": 2
}
