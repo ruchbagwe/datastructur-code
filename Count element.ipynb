{
 "cells": [
  {
   "cell_type": "markdown",
   "metadata": {},
   "source": [
    "Given an integer array arr, count element x such that x + 1 is also in arr.<br><br>\n",
    "\n",
    "If there're duplicates in arr, count them seperately.<br><br>\n",
    "\n",
    " \n",
    "\n",
    "Example 1:<br><br>\n",
    "\n",
    "Input: arr = [1,2,3]<br>\n",
    "Output: 2<br>\n",
    "Explanation: 1 and 2 are counted cause 2 and 3 are in arr.<br>\n",
    "Example 2:<br>\n",
    "\n",
    "Input: arr = [1,1,3,3,5,5,7,7]<br>\n",
    "Output: 0<br>\n",
    "Explanation: No numbers are counted, cause there's no 2, 4, 6, or 8 in arr.<br>\n",
    "Example 3:<br>\n",
    "\n",
    "Input: arr = [1,3,2,3,5,0]<br>\n",
    "Output: 3<br>\n",
    "Explanation: 0, 1 and 2 are counted cause 1, 2 and 3 are in arr.<br>\n",
    "Example 4:<br>\n",
    "\n",
    "Input: arr = [1,1,2,2]<br>\n",
    "Output: 2<br>\n",
    "Explanation: Two 1s are counted cause 2 is in arr.<br>"
   ]
  },
  {
   "cell_type": "code",
   "execution_count": 119,
   "metadata": {},
   "outputs": [],
   "source": [
    "def countElements(arr):\n",
    "    \n",
    "    count=0\n",
    "    tempset = set(arr)\n",
    "        \n",
    "            \n",
    "    for i in arr:\n",
    "        \n",
    "        if i+1 in tempset:\n",
    "            count += 1\n",
    "    return count\n",
    "    "
   ]
  },
  {
   "cell_type": "code",
   "execution_count": 120,
   "metadata": {},
   "outputs": [
    {
     "data": {
      "text/plain": [
       "5"
      ]
     },
     "execution_count": 120,
     "metadata": {},
     "output_type": "execute_result"
    }
   ],
   "source": [
    "arr = [1,3,5,3,2,4]\n",
    "countElements(arr)"
   ]
  }
 ],
 "metadata": {
  "kernelspec": {
   "display_name": "Python 3",
   "language": "python",
   "name": "python3"
  },
  "language_info": {
   "codemirror_mode": {
    "name": "ipython",
    "version": 3
   },
   "file_extension": ".py",
   "mimetype": "text/x-python",
   "name": "python",
   "nbconvert_exporter": "python",
   "pygments_lexer": "ipython3",
   "version": "3.7.4"
  }
 },
 "nbformat": 4,
 "nbformat_minor": 2
}
