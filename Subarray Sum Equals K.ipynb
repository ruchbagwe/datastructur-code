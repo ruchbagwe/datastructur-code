{
 "cells": [
  {
   "cell_type": "raw",
   "metadata": {},
   "source": [
    "Given an array of integers and an integer k, you need to find the total number of continuous subarrays whose sum equals to k.\n",
    "\n",
    "Example 1:\n",
    "Input:nums = [1,1,1], k = 2\n",
    "Output: 2\n",
    "Note:\n",
    "The length of the array is in range [1, 20,000].\n",
    "The range of numbers in the array is [-1000, 1000] and the range of the integer k is [-1e7, 1e7]."
   ]
  },
  {
   "cell_type": "code",
   "execution_count": 8,
   "metadata": {},
   "outputs": [],
   "source": [
    "def subarraySum(nums, k):\n",
    "    \n",
    "    if (len(nums)== 0):\n",
    "        return 0\n",
    "    \n",
    "    ans = 0\n",
    "    sumdic = {}\n",
    "    curr_sum = 0\n",
    "    \n",
    "    for i in range(len(nums)):\n",
    "        curr_sum += nums[i]\n",
    "        \n",
    "        if curr_sum == k:\n",
    "            ans += 1\n",
    "            \n",
    "        if (curr_sum - k) in sumdic:\n",
    "            ans += sumdic[curr_sum - k]\n",
    "        if curr_sum in sumdic:\n",
    "            sumdic[curr_sum] += 1\n",
    "        else:\n",
    "            sumdic[curr_sum] = 1\n",
    "            \n",
    "            \n",
    "            \n",
    "    return ans"
   ]
  },
  {
   "cell_type": "code",
   "execution_count": 11,
   "metadata": {},
   "outputs": [
    {
     "data": {
      "text/plain": [
       "9"
      ]
     },
     "execution_count": 11,
     "metadata": {},
     "output_type": "execute_result"
    }
   ],
   "source": [
    "nums = [1,1,1,1,-4,1,2,1,1]\n",
    "k = 2\n",
    "subarraySum(nums,k)"
   ]
  },
  {
   "cell_type": "code",
   "execution_count": null,
   "metadata": {},
   "outputs": [],
   "source": []
  }
 ],
 "metadata": {
  "kernelspec": {
   "display_name": "Python 3",
   "language": "python",
   "name": "python3"
  },
  "language_info": {
   "codemirror_mode": {
    "name": "ipython",
    "version": 3
   },
   "file_extension": ".py",
   "mimetype": "text/x-python",
   "name": "python",
   "nbconvert_exporter": "python",
   "pygments_lexer": "ipython3",
   "version": "3.7.4"
  }
 },
 "nbformat": 4,
 "nbformat_minor": 2
}
