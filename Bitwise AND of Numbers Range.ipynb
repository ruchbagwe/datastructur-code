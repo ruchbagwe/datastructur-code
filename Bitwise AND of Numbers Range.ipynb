{
 "cells": [
  {
   "cell_type": "raw",
   "metadata": {},
   "source": [
    "Given a range [m, n] where 0 <= m <= n <= 2147483647, return the bitwise AND of all numbers in this range, inclusive.\n",
    "\n",
    "Example 1:\n",
    "\n",
    "Input: [5,7]\n",
    "Output: 4\n",
    "Example 2:\n",
    "\n",
    "Input: [0,1]\n",
    "Output: 0"
   ]
  },
  {
   "cell_type": "code",
   "execution_count": 6,
   "metadata": {},
   "outputs": [],
   "source": [
    "def getbin(nums):\n",
    "    \n",
    "    bina = []\n",
    "    while(nums > 0):\n",
    "        bina.append(nums%2)\n",
    "        nums //= 2\n",
    "    return bina\n",
    "    "
   ]
  },
  {
   "cell_type": "code",
   "execution_count": 8,
   "metadata": {},
   "outputs": [
    {
     "data": {
      "text/plain": [
       "[1, 0, 0, 0, 1]"
      ]
     },
     "execution_count": 8,
     "metadata": {},
     "output_type": "execute_result"
    }
   ],
   "source": [
    "getbin(17)"
   ]
  },
  {
   "cell_type": "code",
   "execution_count": 11,
   "metadata": {},
   "outputs": [],
   "source": [
    "def getMsb(nums):\n",
    "    \n",
    "    msb = -1\n",
    "    while(nums>0):\n",
    "        msb += 1\n",
    "        nums //= 2\n",
    "    return msb"
   ]
  },
  {
   "cell_type": "code",
   "execution_count": 23,
   "metadata": {},
   "outputs": [
    {
     "data": {
      "text/plain": [
       "0"
      ]
     },
     "execution_count": 23,
     "metadata": {},
     "output_type": "execute_result"
    }
   ],
   "source": [
    "getMsb(1)"
   ]
  },
  {
   "cell_type": "code",
   "execution_count": 14,
   "metadata": {},
   "outputs": [
    {
     "data": {
      "text/plain": [
       "16"
      ]
     },
     "execution_count": 14,
     "metadata": {},
     "output_type": "execute_result"
    }
   ],
   "source": [
    "2**4"
   ]
  },
  {
   "cell_type": "code",
   "execution_count": 17,
   "metadata": {},
   "outputs": [],
   "source": [
    "def rangeBitwiseAnd(m , n):\n",
    "    \n",
    "    if m == n:\n",
    "        return 0\n",
    "    \n",
    "    result = 0\n",
    "        \n",
    "    while(m >= 0 and n >= 0):\n",
    "        inirang = getMsb(m)\n",
    "        finalrange = getMsb(n)\n",
    "        \n",
    "        if inirang != finalrange:\n",
    "            return result\n",
    "        else:\n",
    "            result += 2**inirang\n",
    "            m -= 2**inirang\n",
    "            n -= 2**finalrange\n",
    "            \n",
    "    \n",
    "    "
   ]
  },
  {
   "cell_type": "code",
   "execution_count": 22,
   "metadata": {},
   "outputs": [
    {
     "data": {
      "text/plain": [
       "0"
      ]
     },
     "execution_count": 22,
     "metadata": {},
     "output_type": "execute_result"
    }
   ],
   "source": [
    "rangeBitwiseAnd(0,1)"
   ]
  },
  {
   "cell_type": "code",
   "execution_count": null,
   "metadata": {},
   "outputs": [],
   "source": []
  }
 ],
 "metadata": {
  "kernelspec": {
   "display_name": "Python 3",
   "language": "python",
   "name": "python3"
  },
  "language_info": {
   "codemirror_mode": {
    "name": "ipython",
    "version": 3
   },
   "file_extension": ".py",
   "mimetype": "text/x-python",
   "name": "python",
   "nbconvert_exporter": "python",
   "pygments_lexer": "ipython3",
   "version": "3.7.4"
  }
 },
 "nbformat": 4,
 "nbformat_minor": 2
}
