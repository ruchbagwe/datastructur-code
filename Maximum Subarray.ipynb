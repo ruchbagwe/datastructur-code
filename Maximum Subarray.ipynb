{
 "cells": [
  {
   "cell_type": "markdown",
   "metadata": {},
   "source": [
    "Given an integer array nums, find the contiguous subarray (containing at least one number) which has the largest sum and return its sum.\n",
    "\n",
    "Example:<br>\n",
    "\n",
    "Input: [-2,1,-3,4,-1,2,1,-5,4],<br>\n",
    "Output: 6<br>\n",
    "Explanation: [4,-1,2,1] has the largest sum = 6.<br>"
   ]
  },
  {
   "cell_type": "markdown",
   "metadata": {},
   "source": [
    "## Brute Force method"
   ]
  },
  {
   "cell_type": "code",
   "execution_count": 25,
   "metadata": {},
   "outputs": [],
   "source": [
    "def subarray_sum_brute_force(nums): # Time complexity o(n^3)\n",
    "    \n",
    "    arrlen = len(nums)\n",
    "    ans = -10000000000\n",
    "    \n",
    "    for subarrsize in range(1, len(nums)+1): #o(n)\n",
    "        for start_inx in range(0, len(nums)):#o(n)\n",
    "            if (start_inx + subarrsize) > len(nums):\n",
    "                break\n",
    "            sum1 =0\n",
    "            for i in range(start_inx, (start_inx+subarrsize)):#o(n)\n",
    "                sum1 += nums[i]\n",
    "                ans = max(sum1, ans)\n",
    "    return ans\n",
    "                "
   ]
  },
  {
   "cell_type": "code",
   "execution_count": 57,
   "metadata": {},
   "outputs": [
    {
     "data": {
      "text/plain": [
       "[-2, -5, 6, -2]"
      ]
     },
     "execution_count": 57,
     "metadata": {},
     "output_type": "execute_result"
    }
   ],
   "source": [
    "nums = [-2, -5, 6, -2, -3, 1, 5,-6]\n",
    "mid = len(nums)//2\n",
    "leftnums= nums[:mid]\n",
    "leftnums"
   ]
  },
  {
   "cell_type": "code",
   "execution_count": 45,
   "metadata": {},
   "outputs": [
    {
     "data": {
      "text/plain": [
       "[-3, 1, 5, -6]"
      ]
     },
     "execution_count": 45,
     "metadata": {},
     "output_type": "execute_result"
    }
   ],
   "source": [
    "rightnums = nums[mid:]\n",
    "rightnums"
   ]
  },
  {
   "cell_type": "code",
   "execution_count": 27,
   "metadata": {},
   "outputs": [
    {
     "name": "stdout",
     "output_type": "stream",
     "text": [
      "7\n"
     ]
    }
   ],
   "source": [
    "print(subarray_sum_brute_force(nums))"
   ]
  },
  {
   "cell_type": "code",
   "execution_count": 28,
   "metadata": {},
   "outputs": [],
   "source": [
    "nums2 = [2, 3, 4, 5, 7]"
   ]
  },
  {
   "cell_type": "code",
   "execution_count": 29,
   "metadata": {},
   "outputs": [
    {
     "name": "stdout",
     "output_type": "stream",
     "text": [
      "21\n"
     ]
    }
   ],
   "source": [
    "print(subarray_sum_brute_force(nums2))"
   ]
  },
  {
   "cell_type": "code",
   "execution_count": 34,
   "metadata": {},
   "outputs": [],
   "source": [
    "def subarray_sum_brute_force2(nums): #o(n^2)\n",
    "    \n",
    "    ans = -1000000\n",
    "    for start_inx in range(0, len(nums)): # o(n)\n",
    "        sum1 = 0\n",
    "        for subarrlen in range(1, len(nums)+1): #o(n)\n",
    "            if (subarrlen + start_inx) > len(nums):\n",
    "                break\n",
    "            sum1 += nums[start_inx + subarrlen  -1]\n",
    "            \n",
    "            ans = max(sum1, ans)\n",
    "            \n",
    "    return ans"
   ]
  },
  {
   "cell_type": "code",
   "execution_count": 35,
   "metadata": {},
   "outputs": [
    {
     "name": "stdout",
     "output_type": "stream",
     "text": [
      "7\n"
     ]
    }
   ],
   "source": [
    "print(subarray_sum_brute_force2(nums))"
   ]
  },
  {
   "cell_type": "code",
   "execution_count": 77,
   "metadata": {},
   "outputs": [
    {
     "name": "stdout",
     "output_type": "stream",
     "text": [
      "21\n"
     ]
    }
   ],
   "source": [
    "print(subarray_sum_brute_force2(nums2))"
   ]
  },
  {
   "cell_type": "code",
   "execution_count": 148,
   "metadata": {},
   "outputs": [],
   "source": [
    "def subarrsum_dc(nums):\n",
    "    if len(nums) == 1 :\n",
    "        return nums[0]\n",
    "    \n",
    "    \n",
    "    mid = len(nums) // 2\n",
    "    left_MSS = subarrsum_dc(nums[:mid])\n",
    "    right_MSS = subarrsum_dc(nums[mid:])\n",
    "    \n",
    "    sum1 = 0\n",
    "    left_sum = -100000\n",
    "    right_sum = -100000\n",
    "    \n",
    "    for i in range(0,mid):\n",
    "        sum1 += nums[i]\n",
    "        left_sum = max(sum1, left_sum)\n",
    "       \n",
    "    sum1 = 0\n",
    "    for i in range(mid, len(nums)):\n",
    "        sum1 += nums[i]\n",
    "        right_sum = max(sum1, right_sum)\n",
    "             \n",
    "    \n",
    "    ans = max(left_MSS, right_MSS)\n",
    "    return max(ans,left_sum+right_sum)"
   ]
  },
  {
   "cell_type": "code",
   "execution_count": 149,
   "metadata": {},
   "outputs": [
    {
     "name": "stdout",
     "output_type": "stream",
     "text": [
      "6\n"
     ]
    }
   ],
   "source": [
    "print(subarrsum_dc(nums))"
   ]
  },
  {
   "cell_type": "code",
   "execution_count": 147,
   "metadata": {},
   "outputs": [
    {
     "name": "stdout",
     "output_type": "stream",
     "text": [
      "21\n"
     ]
    }
   ],
   "source": [
    "print(subarrsum_dc(nums2))"
   ]
  },
  {
   "cell_type": "code",
   "execution_count": 151,
   "metadata": {},
   "outputs": [],
   "source": [
    "def maxSubArrayKedan(nums):\n",
    "        ans = -100000000000000\n",
    "        temp_val = 0\n",
    "        for i  in range(0, len(nums)):\n",
    "            temp_val = temp_val + nums[i]\n",
    "            if ans < temp_val:\n",
    "                ans = temp_val\n",
    "                \n",
    "            if temp_val < 0:\n",
    "                temp_val = 0\n",
    "        return ans"
   ]
  },
  {
   "cell_type": "code",
   "execution_count": 152,
   "metadata": {},
   "outputs": [
    {
     "name": "stdout",
     "output_type": "stream",
     "text": [
      "7\n"
     ]
    }
   ],
   "source": [
    "print(maxSubArrayKedan(nums))"
   ]
  },
  {
   "cell_type": "code",
   "execution_count": 153,
   "metadata": {},
   "outputs": [
    {
     "name": "stdout",
     "output_type": "stream",
     "text": [
      "21\n"
     ]
    }
   ],
   "source": [
    "print(maxSubArrayKedan(nums2))"
   ]
  },
  {
   "cell_type": "code",
   "execution_count": null,
   "metadata": {},
   "outputs": [],
   "source": []
  }
 ],
 "metadata": {
  "kernelspec": {
   "display_name": "Python 3",
   "language": "python",
   "name": "python3"
  },
  "language_info": {
   "codemirror_mode": {
    "name": "ipython",
    "version": 3
   },
   "file_extension": ".py",
   "mimetype": "text/x-python",
   "name": "python",
   "nbconvert_exporter": "python",
   "pygments_lexer": "ipython3",
   "version": "3.7.4"
  }
 },
 "nbformat": 4,
 "nbformat_minor": 2
}
