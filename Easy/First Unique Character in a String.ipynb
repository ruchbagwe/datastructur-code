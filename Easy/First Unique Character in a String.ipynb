{
 "cells": [
  {
   "cell_type": "raw",
   "metadata": {},
   "source": [
    "Given a string, find the first non-repeating character in it and return it's index. If it doesn't exist, return -1.\n",
    "\n",
    "Examples:\n",
    "\n",
    "s = \"leetcode\"\n",
    "return 0.\n",
    "\n",
    "s = \"loveleetcode\",\n",
    "return 2.\n",
    "Note: You may assume the string contain only lowercase letters."
   ]
  },
  {
   "cell_type": "code",
   "execution_count": 50,
   "metadata": {},
   "outputs": [],
   "source": [
    "def firstUniqChar(s):\n",
    "    if not s:\n",
    "        \n",
    "        return -1\n",
    "    if len(s)== 1:\n",
    "        return 0\n",
    "    char_frq = {}\n",
    "    \n",
    "    for i in s:\n",
    "        if i not in char_frq:\n",
    "            char_frq[i] = 1\n",
    "        else:\n",
    "            char_frq[i] += 1\n",
    "    print(char_frq)    \n",
    "    for i in range(len(s)):\n",
    "        if char_frq[s[i]] == 1:\n",
    "            \n",
    "            return i\n",
    "        \n",
    "    return -1\n",
    "            "
   ]
  },
  {
   "cell_type": "code",
   "execution_count": 51,
   "metadata": {},
   "outputs": [
    {
     "name": "stdout",
     "output_type": "stream",
     "text": [
      "{'j': 2, 'g': 2, 'f': 1, 'b': 1, 'l': 1}\n",
      "4\n"
     ]
    }
   ],
   "source": [
    "s ='jjggfbl'\n",
    "print(firstUniqChar(s))"
   ]
  },
  {
   "cell_type": "code",
   "execution_count": null,
   "metadata": {},
   "outputs": [],
   "source": []
  }
 ],
 "metadata": {
  "kernelspec": {
   "display_name": "Python 3",
   "language": "python",
   "name": "python3"
  },
  "language_info": {
   "codemirror_mode": {
    "name": "ipython",
    "version": 3
   },
   "file_extension": ".py",
   "mimetype": "text/x-python",
   "name": "python",
   "nbconvert_exporter": "python",
   "pygments_lexer": "ipython3",
   "version": "3.7.4"
  }
 },
 "nbformat": 4,
 "nbformat_minor": 2
}
