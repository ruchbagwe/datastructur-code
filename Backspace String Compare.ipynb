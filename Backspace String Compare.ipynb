{
 "cells": [
  {
   "cell_type": "markdown",
   "metadata": {},
   "source": [
    "Given two strings S and T, return if they are equal when both are typed into empty text editors.<br> \n",
    "# means a backspace character.<br>\n",
    "\n",
    "Example 1:<br>\n",
    "\n",
    "Input: S = \"ab#c\", T = \"ad#c\"<br>\n",
    "Output: true<br>\n",
    "Explanation: Both S and T become \"ac\".<br>\n",
    "Example 2:<br>\n",
    "<br>\n",
    "Input: S = \"ab##\", T = \"c#d#\"<br>\n",
    "Output: true<br>\n",
    "Explanation: Both S and T become \"\".<br>\n",
    "Example 3:<br>\n",
    "\n",
    "Input: S = \"a##c\", T = \"#a#c\"<br>\n",
    "Output: true<br>\n",
    "Explanation: Both S and T become \"c\".<br>\n",
    "Example 4:<br>\n",
    "\n",
    "Input: S = \"a#c\", T = \"b\"<br>\n",
    "Output: false<br>\n",
    "Explanation: S becomes \"c\" while T becomes \"b\".<br>\n",
    "Note:<br>\n",
    "\n",
    "1 <= S.length <= 200<br>\n",
    "1 <= T.length <= 200<br>\n",
    "S and T only contain lowercase letters and '#' characters.<br>\n",
    "Follow up:<br>\n",
    "\n",
    "Can you solve it in O(N) time and O(1) space?<br>"
   ]
  },
  {
   "cell_type": "code",
   "execution_count": 88,
   "metadata": {},
   "outputs": [],
   "source": [
    "S= \"#a#b#c\"\n",
    "T = \"ab#c\""
   ]
  },
  {
   "cell_type": "code",
   "execution_count": 80,
   "metadata": {},
   "outputs": [],
   "source": [
    "while '#' in S :\n",
    "    ind = S.index('#')\n",
    "    if ind == 0:\n",
    "        S = S[1:]\n",
    "    else:\n",
    "        S = S[:ind-1] + S[ind+1:]\n",
    "        \n",
    "while '#' in T :\n",
    "    ind = T.index('#')\n",
    "    if ind == 0:\n",
    "        T = T[1:]\n",
    "    else:\n",
    "        T = T[:ind-1] + T[ind+1:]\n",
    "                \n",
    "    "
   ]
  },
  {
   "cell_type": "code",
   "execution_count": 81,
   "metadata": {},
   "outputs": [
    {
     "data": {
      "text/plain": [
       "'c'"
      ]
     },
     "execution_count": 81,
     "metadata": {},
     "output_type": "execute_result"
    }
   ],
   "source": [
    "S"
   ]
  },
  {
   "cell_type": "code",
   "execution_count": 82,
   "metadata": {},
   "outputs": [
    {
     "data": {
      "text/plain": [
       "str"
      ]
     },
     "execution_count": 82,
     "metadata": {},
     "output_type": "execute_result"
    }
   ],
   "source": [
    "type(S)"
   ]
  },
  {
   "cell_type": "code",
   "execution_count": 86,
   "metadata": {},
   "outputs": [
    {
     "data": {
      "text/plain": [
       "['c']"
      ]
     },
     "execution_count": 86,
     "metadata": {},
     "output_type": "execute_result"
    }
   ],
   "source": [
    "li1 = []\n",
    "        li2 = []\n",
    "        str1=\"\"\n",
    "        str2=\"\"\n",
    "        \n",
    "        for i in S:\n",
    "            if i != '#':\n",
    "                li1.append(i)\n",
    "            else:\n",
    "                if li1:\n",
    "                    li1.pop()\n",
    "        for i in T:\n",
    "            if i != '#':\n",
    "                li2.append(i)\n",
    "            else:\n",
    "                if li2:\n",
    "                    li2.pop()\n",
    "                    \n",
    "                    \n",
    "        return (str1.join(li1) == str2.join(li2))"
   ]
  },
  {
   "cell_type": "code",
   "execution_count": 85,
   "metadata": {},
   "outputs": [],
   "source": [
    "li2= []\n",
    "if li2:\n",
    "    print(True)"
   ]
  },
  {
   "cell_type": "code",
   "execution_count": null,
   "metadata": {},
   "outputs": [],
   "source": []
  }
 ],
 "metadata": {
  "kernelspec": {
   "display_name": "Python 3",
   "language": "python",
   "name": "python3"
  },
  "language_info": {
   "codemirror_mode": {
    "name": "ipython",
    "version": 3
   },
   "file_extension": ".py",
   "mimetype": "text/x-python",
   "name": "python",
   "nbconvert_exporter": "python",
   "pygments_lexer": "ipython3",
   "version": "3.7.4"
  }
 },
 "nbformat": 4,
 "nbformat_minor": 2
}
