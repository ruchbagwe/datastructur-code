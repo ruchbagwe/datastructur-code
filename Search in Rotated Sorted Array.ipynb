{
 "cells": [
  {
   "cell_type": "raw",
   "metadata": {},
   "source": [
    "Suppose an array sorted in ascending order is rotated at some pivot unknown to you beforehand.\n",
    "\n",
    "(i.e., [0,1,2,4,5,6,7] might become [4,5,6,7,0,1,2]).\n",
    "\n",
    "You are given a target value to search. If found in the array return its index, otherwise return -1.\n",
    "\n",
    "You may assume no duplicate exists in the array.\n",
    "\n",
    "Your algorithm's runtime complexity must be in the order of O(log n).\n",
    "\n",
    "Example 1:\n",
    "\n",
    "Input: nums = [4,5,6,7,0,1,2], target = 0\n",
    "Output: 4\n",
    "Example 2:\n",
    "\n",
    "Input: nums = [4,5,6,7,0,1,2], target = 3\n",
    "Output: -1"
   ]
  },
  {
   "cell_type": "code",
   "execution_count": 1,
   "metadata": {},
   "outputs": [],
   "source": [
    "nums = [4,5,6,7,0,1,2]"
   ]
  },
  {
   "cell_type": "code",
   "execution_count": 53,
   "metadata": {},
   "outputs": [],
   "source": [
    "def search(nums, target):\n",
    "    if not nums:\n",
    "        return -1\n",
    "    elif len(nums) == 1:\n",
    "        if nums[0] == target :\n",
    "            return 0\n",
    "        else:\n",
    "            return -1\n",
    "    elif target == nums[0]:\n",
    "        \n",
    "        return 0\n",
    "    elif target > nums[0]:\n",
    "        print(\"target greater than nums[0]\")\n",
    "        i = 1\n",
    "        while(nums[i] > nums[0] and target >= nums[i]):\n",
    "            if target == nums[i]:\n",
    "                return i\n",
    "            else:\n",
    "                if i < len(nums) -1 :\n",
    "                    i += 1\n",
    "                else:\n",
    "                    return -1\n",
    "        return -1\n",
    "        \n",
    "    else:\n",
    "        i = len(nums) - 1\n",
    "        while(nums[i] < nums[0]  and target <= nums[i]):\n",
    "            if nums[i] == target:\n",
    "                return i\n",
    "            else:\n",
    "                if i > 0:\n",
    "                    i -= 1\n",
    "                else:\n",
    "                    return -1  \n",
    "        return -1\n",
    "     "
   ]
  },
  {
   "cell_type": "code",
   "execution_count": 57,
   "metadata": {},
   "outputs": [
    {
     "data": {
      "text/plain": [
       "-1"
      ]
     },
     "execution_count": 57,
     "metadata": {},
     "output_type": "execute_result"
    }
   ],
   "source": [
    "nums = [5,1]\n",
    "search(nums, 4)"
   ]
  },
  {
   "cell_type": "code",
   "execution_count": 58,
   "metadata": {},
   "outputs": [
    {
     "data": {
      "text/plain": [
       "1"
      ]
     },
     "execution_count": 58,
     "metadata": {},
     "output_type": "execute_result"
    }
   ],
   "source": [
    "3//2"
   ]
  },
  {
   "cell_type": "markdown",
   "metadata": {},
   "source": [
    "o(logn)"
   ]
  },
  {
   "cell_type": "code",
   "execution_count": 59,
   "metadata": {},
   "outputs": [],
   "source": [
    "def search2(nums, target):\n",
    "    low = 0\n",
    "    high = len(nums)\n",
    "    \n",
    "    while(low < high):\n",
    "        mid = low + (high - low)//2\n",
    "        \n",
    "        if nums[mid]  ==  target:\n",
    "            return mid\n",
    "        if nums[low] <= nums[mid] :\n",
    "            if target >= nums[low] and target < nums[mid]:\n",
    "                high = mid\n",
    "            else:\n",
    "                low = mid + 1\n",
    "        else:\n",
    "            if target <= nums[high -1] and target > nums[mid]:\n",
    "                low = mid + 1\n",
    "            else:\n",
    "                high = mid\n",
    "    return -1"
   ]
  },
  {
   "cell_type": "code",
   "execution_count": 60,
   "metadata": {},
   "outputs": [
    {
     "data": {
      "text/plain": [
       "-1"
      ]
     },
     "execution_count": 60,
     "metadata": {},
     "output_type": "execute_result"
    }
   ],
   "source": [
    "nums = [5,1]\n",
    "search(nums, 4)"
   ]
  },
  {
   "cell_type": "code",
   "execution_count": null,
   "metadata": {},
   "outputs": [],
   "source": []
  }
 ],
 "metadata": {
  "kernelspec": {
   "display_name": "Python 3",
   "language": "python",
   "name": "python3"
  },
  "language_info": {
   "codemirror_mode": {
    "name": "ipython",
    "version": 3
   },
   "file_extension": ".py",
   "mimetype": "text/x-python",
   "name": "python",
   "nbconvert_exporter": "python",
   "pygments_lexer": "ipython3",
   "version": "3.7.4"
  }
 },
 "nbformat": 4,
 "nbformat_minor": 2
}
