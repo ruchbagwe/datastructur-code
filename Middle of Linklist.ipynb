{
 "cells": [
  {
   "cell_type": "markdown",
   "metadata": {},
   "source": [
    "Given a non-empty, singly linked list with head node head, return a middle node of linked list.<br><br>\n",
    "\n",
    "If there are two middle nodes, return the second middle node.<br>\n",
    "\n",
    "\n",
    "Input: [1,2,3,4,5]<br>\n",
    "Output: Node 3 from this list (Serialization: [3,4,5])<br>\n",
    "The returned node has value 3.  (The judge's serialization of this node is [3,4,5]).<br>\n",
    "Note that we returned a ListNode object ans, such that:<br>\n",
    "ans.val = 3, ans.next.val = 4, ans.next.next.val = 5, and ans.next.next.next = NULL.<br>\n",
    "<br><br><br><br><br>\n",
    "Input: [1,2,3,4,5,6]<br>\n",
    "Output: Node 4 from this list (Serialization: [4,5,6])<br>\n",
    "Since the list has two middle nodes with values 3 and 4, we return the second one.<br>"
   ]
  },
  {
   "cell_type": "code",
   "execution_count": 38,
   "metadata": {},
   "outputs": [],
   "source": [
    "class LinkedList:\n",
    "    \n",
    "    def __init__(self):\n",
    "        self.head = None\n",
    "        \n",
    "    def push(self, new_data):\n",
    "        \n",
    "        new_node = Node(new_data)\n",
    "        new_node.next = self.head\n",
    "        self.head = new_node\n",
    "        \n",
    "    def printList(self):\n",
    "        temp = self.head\n",
    "        while(temp):\n",
    "            print(temp.data)\n",
    "            temp = temp.next\n",
    "            \n",
    "    def getCount(self):\n",
    "        temp=self.head\n",
    "        count = 0\n",
    "        while(temp):\n",
    "            count += 1\n",
    "            temp = temp.next\n",
    "        print(\"count = %d\" %count)\n",
    "        \n",
    "        return count"
   ]
  },
  {
   "cell_type": "code",
   "execution_count": 39,
   "metadata": {},
   "outputs": [],
   "source": [
    "class Node:\n",
    "    def __init__(self, data):\n",
    "        self.data = data\n",
    "        self.next = None"
   ]
  },
  {
   "cell_type": "code",
   "execution_count": 43,
   "metadata": {},
   "outputs": [
    {
     "name": "stdout",
     "output_type": "stream",
     "text": [
      "4\n",
      "3\n",
      "2\n",
      "1\n",
      "count = 4\n"
     ]
    },
    {
     "ename": "AttributeError",
     "evalue": "'LinkedList' object has no attribute 'data'",
     "output_type": "error",
     "traceback": [
      "\u001b[1;31m---------------------------------------------------------------------------\u001b[0m",
      "\u001b[1;31mAttributeError\u001b[0m                            Traceback (most recent call last)",
      "\u001b[1;32m<ipython-input-43-7aa2c8c72a10>\u001b[0m in \u001b[0;36m<module>\u001b[1;34m\u001b[0m\n\u001b[0;32m      9\u001b[0m     \u001b[0mmid\u001b[0m \u001b[1;33m=\u001b[0m \u001b[0mcount\u001b[0m \u001b[1;33m//\u001b[0m \u001b[1;36m2\u001b[0m\u001b[1;33m\u001b[0m\u001b[1;33m\u001b[0m\u001b[0m\n\u001b[0;32m     10\u001b[0m     \u001b[1;32mwhile\u001b[0m\u001b[1;33m(\u001b[0m\u001b[0mllist\u001b[0m\u001b[1;33m)\u001b[0m\u001b[1;33m:\u001b[0m\u001b[1;33m\u001b[0m\u001b[1;33m\u001b[0m\u001b[0m\n\u001b[1;32m---> 11\u001b[1;33m         \u001b[0mtemp\u001b[0m \u001b[1;33m=\u001b[0m \u001b[0mllist\u001b[0m\u001b[1;33m.\u001b[0m\u001b[0mdata\u001b[0m\u001b[1;33m\u001b[0m\u001b[1;33m\u001b[0m\u001b[0m\n\u001b[0m\u001b[0;32m     12\u001b[0m         \u001b[0mprint\u001b[0m\u001b[1;33m(\u001b[0m\u001b[0mtemp\u001b[0m\u001b[1;33m)\u001b[0m\u001b[1;33m\u001b[0m\u001b[1;33m\u001b[0m\u001b[0m\n\u001b[0;32m     13\u001b[0m         \u001b[0mmid\u001b[0m \u001b[1;33m-=\u001b[0m \u001b[1;36m1\u001b[0m\u001b[1;33m\u001b[0m\u001b[1;33m\u001b[0m\u001b[0m\n",
      "\u001b[1;31mAttributeError\u001b[0m: 'LinkedList' object has no attribute 'data'"
     ]
    }
   ],
   "source": [
    "if __name__ == '__main__':\n",
    "    llist = LinkedList()\n",
    "    llist.push(1)\n",
    "    llist.push(2)\n",
    "    llist.push(3)\n",
    "    llist.push(4)\n",
    "    llist.printList()\n",
    "    count = llist.getCount()\n",
    "    mid = count // 2\n",
    "    while(llist):\n",
    "        temp = llist.data\n",
    "        print(temp)\n",
    "        mid -= 1\n",
    "    "
   ]
  },
  {
   "cell_type": "code",
   "execution_count": 44,
   "metadata": {},
   "outputs": [],
   "source": [
    "class ListNode:\n",
    "    def __init__(self, x):\n",
    "\n",
    "        self.val = x\n",
    "        self.next = None"
   ]
  },
  {
   "cell_type": "code",
   "execution_count": 51,
   "metadata": {},
   "outputs": [],
   "source": [
    "def middleNode(self, head: ListNode) -> ListNode:\n",
    "        \n",
    "        newlist = [head.val]\n",
    "        curr_node = head\n",
    "        while curr_node.next != None:\n",
    "            newlist.append(curr_node.next.val)\n",
    "            curr_node = curr_node.next\n",
    "            \n",
    "        \n",
    "        for i in range((len(newlist)//2)):\n",
    "            head     =  head.next\n",
    "        return head"
   ]
  },
  {
   "cell_type": "code",
   "execution_count": null,
   "metadata": {},
   "outputs": [],
   "source": [
    " def middleNode(self, head: ListNode) -> ListNode:\n",
    "        \n",
    "        count = 0\n",
    "        mid = head\n",
    "        fast = head\n",
    "        while(fast != None and fast.next != None):\n",
    "            mid = mid.next\n",
    "            fast = fast.next.next\n",
    "        return mid"
   ]
  }
 ],
 "metadata": {
  "kernelspec": {
   "display_name": "Python 3",
   "language": "python",
   "name": "python3"
  },
  "language_info": {
   "codemirror_mode": {
    "name": "ipython",
    "version": 3
   },
   "file_extension": ".py",
   "mimetype": "text/x-python",
   "name": "python",
   "nbconvert_exporter": "python",
   "pygments_lexer": "ipython3",
   "version": "3.7.4"
  }
 },
 "nbformat": 4,
 "nbformat_minor": 2
}
